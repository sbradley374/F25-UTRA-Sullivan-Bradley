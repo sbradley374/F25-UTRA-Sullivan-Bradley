{
 "cells": [
  {
   "cell_type": "code",
   "execution_count": 1,
   "metadata": {},
   "outputs": [],
   "source": [
    "import numpy as np\n",
    "import matplotlib.pyplot as plt\n",
    "import cv2,os,shutil,glob\n",
    "import DPT.util.io as util\n",
    "import DPT.run_monodepth as depth\n",
    "import DPT.run_segmentation as seg\n",
    "from tqdm import tqdm"
   ]
  },
  {
   "cell_type": "code",
   "execution_count": 2,
   "metadata": {},
   "outputs": [],
   "source": [
    "# imgs = glob.glob('datasets/inria/frames/*/*.jpg')\n",
    "# imgs"
   ]
  },
  {
   "cell_type": "code",
   "execution_count": 3,
   "metadata": {},
   "outputs": [],
   "source": [
    "# i = cv2.imread(imgs[0])\n",
    "# i = cv2.cvtColor(i, cv2.COLOR_BGR2RGB)\n",
    "# plt.imshow(i)"
   ]
  },
  {
   "cell_type": "code",
   "execution_count": 4,
   "metadata": {},
   "outputs": [],
   "source": [
    "# plt.imshow(cv2.imread('DPT/output_monodepth/00012248.png'))"
   ]
  },
  {
   "cell_type": "code",
   "execution_count": 5,
   "metadata": {},
   "outputs": [],
   "source": [
    "# img,_ = util.read_pfm(\"DPT/output_monodepth/00012248.pfm\")\n",
    "# plt.imshow(img)"
   ]
  },
  {
   "cell_type": "code",
   "execution_count": 6,
   "metadata": {},
   "outputs": [],
   "source": [
    "#human palette: (class 13) adepallete[13*3:14*3]\n",
    "#150 5 61"
   ]
  },
  {
   "cell_type": "code",
   "execution_count": 7,
   "metadata": {},
   "outputs": [],
   "source": [
    "# for i,e in enumerate(np.random.choice(imgs, len(imgs), replace=False)):\n",
    "#     shutil.copy(e, \"datasets/train/inputs/\"+str(i)+\".jpg\")\n",
    "\n",
    "# depth.run('datasets/inria/inputs/', \\\n",
    "#           'datasets/inria/depths/', \\\n",
    "#           'DPT/weights/dpt_large-midas-2f21e586.pt', \\\n",
    "#           model_type=\"dpt_large\")"
   ]
  },
  {
   "cell_type": "code",
   "execution_count": 8,
   "metadata": {},
   "outputs": [],
   "source": [
    "# for e in tqdm(os.listdir('datasets/inria/frames/')):\n",
    "#     depth.run('datasets/inria/frames/'+e+\"/\", \\\n",
    "#               'datasets/inria/depths/'+e+\"/\", \\\n",
    "#               'DPT/weights/dpt_large-midas-2f21e586.pt', \\\n",
    "#               model_type=\"dpt_large\")"
   ]
  },
  {
   "cell_type": "code",
   "execution_count": 2,
   "metadata": {},
   "outputs": [
    {
     "name": "stdout",
     "output_type": "stream",
     "text": [
      "initialize\n",
      "device: cuda\n"
     ]
    },
    {
     "name": "stderr",
     "output_type": "stream",
     "text": [
      "\r",
      "0it [00:00, ?it/s]"
     ]
    },
    {
     "name": "stdout",
     "output_type": "stream",
     "text": [
      "start processing\n"
     ]
    },
    {
     "name": "stderr",
     "output_type": "stream",
     "text": [
      "c:\\users\\antoine cadiou\\appdata\\local\\programs\\python\\python38\\lib\\site-packages\\torch\\nn\\functional.py:3631: UserWarning: Default upsampling behavior when mode=bilinear is changed to align_corners=False since 0.4.0. Please specify align_corners=True if the old behavior is desired. See the documentation of nn.Upsample for details.\n",
      "  warnings.warn(\n",
      "1449it [13:39,  1.77it/s]"
     ]
    },
    {
     "name": "stdout",
     "output_type": "stream",
     "text": [
      "finished\n"
     ]
    },
    {
     "name": "stderr",
     "output_type": "stream",
     "text": [
      "\n"
     ]
    }
   ],
   "source": [
    "seg.run('datasets/nyuv2/inputs/', \\\n",
    "        'datasets/nyuv2/segmentation/', \\\n",
    "        'DPT/weights/dpt_large-ade20k-b12dca68.pt', \\\n",
    "        model_type=\"dpt_large\")"
   ]
  }
 ],
 "metadata": {
  "kernelspec": {
   "display_name": "Python 3",
   "language": "python",
   "name": "python3"
  },
  "language_info": {
   "codemirror_mode": {
    "name": "ipython",
    "version": 3
   },
   "file_extension": ".py",
   "mimetype": "text/x-python",
   "name": "python",
   "nbconvert_exporter": "python",
   "pygments_lexer": "ipython3",
   "version": "3.8.1"
  }
 },
 "nbformat": 4,
 "nbformat_minor": 4
}
