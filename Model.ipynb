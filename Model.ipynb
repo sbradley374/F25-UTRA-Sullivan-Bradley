{
 "cells": [
  {
   "cell_type": "code",
   "execution_count": 50,
   "metadata": {},
   "outputs": [],
   "source": [
    "import numpy as np\n",
    "import torch\n",
    "import torch.nn as nn\n",
    "from einops import rearrange, repeat\n",
    "from einops.layers.torch import Rearrange\n",
    "import timm\n",
    "import matplotlib.pyplot as plt"
   ]
  },
  {
   "cell_type": "code",
   "execution_count": 51,
   "metadata": {},
   "outputs": [
    {
     "data": {
      "text/plain": [
       "torch.Size([4, 3, 384, 384])"
      ]
     },
     "execution_count": 51,
     "metadata": {},
     "output_type": "execute_result"
    }
   ],
   "source": [
    "img = torch.Tensor(np.random.random((4,3,384,384)))\n",
    "img.shape"
   ]
  },
  {
   "cell_type": "code",
   "execution_count": 52,
   "metadata": {},
   "outputs": [],
   "source": [
    "class Read_ignore(nn.Module):\n",
    "    def __init__(self, start_index=1):\n",
    "        super(Read_ignore, self).__init__()\n",
    "        self.start_index = start_index\n",
    "\n",
    "    def forward(self, x):\n",
    "        return x[:, self.start_index:]\n",
    "\n",
    "\n",
    "class Read_add(nn.Module):\n",
    "    def __init__(self, start_index=1):\n",
    "        super(Read_add, self).__init__()\n",
    "        self.start_index = start_index\n",
    "\n",
    "    def forward(self, x):\n",
    "        if self.start_index == 2:\n",
    "            readout = (x[:, 0] + x[:, 1]) / 2\n",
    "        else:\n",
    "            readout = x[:, 0]\n",
    "        return x[:, self.start_index :] + readout.unsqueeze(1)\n",
    "\n",
    "\n",
    "class Read_projection(nn.Module):\n",
    "    def __init__(self, in_features, start_index=1):\n",
    "        super(Read_projection, self).__init__()\n",
    "        self.start_index = start_index\n",
    "        self.project = nn.Sequential(nn.Linear(2 * in_features, in_features), nn.GELU())\n",
    "\n",
    "    def forward(self, x):\n",
    "        readout = x[:, 0].unsqueeze(1).expand_as(x[:, self.start_index :])\n",
    "        features = torch.cat((x[:, self.start_index :], readout), -1)\n",
    "        return self.project(features)"
   ]
  },
  {
   "cell_type": "code",
   "execution_count": 64,
   "metadata": {},
   "outputs": [],
   "source": [
    "class MyConvTranspose2d(nn.Module):\n",
    "    def __init__(self, conv, output_size):\n",
    "        super(MyConvTranspose2d, self).__init__()\n",
    "        self.output_size = output_size\n",
    "        self.conv = conv\n",
    "\n",
    "    def forward(self, x):\n",
    "        x = self.conv(x, output_size=self.output_size)\n",
    "        return x\n",
    "\n",
    "class Resample(nn.Module):\n",
    "    def __init__(self, p, s, h, emb_dim, resample_dim):\n",
    "        super(Resample, self).__init__()\n",
    "        assert (s in [4, 8, 16, 32]), \"s must be in [0.5, 4, 8, 16, 32]\"\n",
    "        self.conv1 = nn.Conv2d(emb_dim, resample_dim, kernel_size=1, stride=1, padding=0)\n",
    "        if s == 4:\n",
    "            self.conv2 = nn.ConvTranspose2d(resample_dim, \n",
    "                                resample_dim, \n",
    "                                kernel_size=4, \n",
    "                                stride=4,\n",
    "                                padding=0,\n",
    "                                bias=True,\n",
    "                                dilation=1,\n",
    "                                groups=1)\n",
    "        elif s == 8:\n",
    "            self.conv2 = nn.ConvTranspose2d(resample_dim, \n",
    "                                resample_dim, \n",
    "                                kernel_size=2, \n",
    "                                stride=2,\n",
    "                                padding=0,\n",
    "                                bias=True,\n",
    "                                dilation=1,\n",
    "                                groups=1)\n",
    "        elif s == 16:\n",
    "            self.conv2 = nn.Identity()\n",
    "        else:\n",
    "            self.conv2 = nn.Conv2d(resample_dim, resample_dim, kernel_size=2,stride=2, padding=0, bias=True)\n",
    "\n",
    "\n",
    "\n",
    "    def forward(self, x):\n",
    "        x = self.conv1(x)\n",
    "        x = self.conv2(x)\n",
    "        return x\n",
    "\n",
    "class ResidualConvUnit(nn.Module):\n",
    "\n",
    "    def __init__(self, features):\n",
    "        super().__init__()\n",
    "\n",
    "        self.conv1 = nn.Conv2d(\n",
    "            features, features, kernel_size=3, stride=1, padding=1, bias=True\n",
    "        )\n",
    "\n",
    "        self.conv2 = nn.Conv2d(\n",
    "            features, features, kernel_size=3, stride=1, padding=1, bias=True\n",
    "        )\n",
    "\n",
    "        self.relu = nn.ReLU(inplace=True)\n",
    "\n",
    "    def forward(self, x):\n",
    "        \"\"\"Forward pass.\n",
    "        Args:\n",
    "            x (tensor): input\n",
    "        Returns:\n",
    "            tensor: output\n",
    "        \"\"\"\n",
    "        out = self.relu(x)\n",
    "        out = self.conv1(out)\n",
    "        out = self.relu(out)\n",
    "        out = self.conv2(out)\n",
    "\n",
    "        return out + x\n",
    "\n",
    "class Fusion(nn.Module):\n",
    "    def __init__(self, resample_dim):\n",
    "        super(Fusion, self).__init__()\n",
    "        self.res_conv1 = ResidualConvUnit(resample_dim)\n",
    "        self.res_conv2 = ResidualConvUnit(resample_dim)\n",
    "        #self.resample = nn.ConvTranspose2d(resample_dim, resample_dim, kernel_size=2, stride=2, padding=0, bias=True, dilation=1, groups=1)\n",
    "    \n",
    "    def forward(self, x, previous_stage=None):\n",
    "        if not previous_stage:\n",
    "            previous_stage = torch.zeros_like(x)\n",
    "        \n",
    "        output_stage1 = self.res_conv1(x)\n",
    "        output_stage1 += previous_stage\n",
    "\n",
    "        output_stage2 = self.res_conv2(output_stage1)\n",
    "        output_stage2 = nn.functional.interpolate(\n",
    "            output_stage2, scale_factor=2, mode=\"bilinear\", align_corners=True\n",
    "        )\n",
    "        return output_stage2\n"
   ]
  },
  {
   "cell_type": "code",
   "execution_count": 65,
   "metadata": {},
   "outputs": [],
   "source": [
    "class Reassemble(nn.Module):\n",
    "    def __init__(self, image_size, read, p, s, emb_dim, resample_dim):\n",
    "        \"\"\"\n",
    "        p = patch size \n",
    "        s = coefficient resample\n",
    "        emb_dim <=> D (in the paper)\n",
    "        resample_dim <=> ^D (in the paper)\n",
    "        read : {\"ignore\", \"add\", \"projection\"}\n",
    "        \"\"\"\n",
    "        super(Reassemble, self).__init__()\n",
    "        channels, image_height, image_width = image_size\n",
    "        \n",
    "        #Read\n",
    "        self.read = Read_ignore()\n",
    "        if read == 'add':\n",
    "            self.read = Read_add()\n",
    "        elif read == 'projection':\n",
    "            self.read = Read_projection(emb_dim)\n",
    "    \n",
    "        #Concat after read\n",
    "        self.concat = Rearrange('b (h w) c -> b c h w', \n",
    "                                c=emb_dim,\n",
    "                                h=(image_height // p),\n",
    "                                w=(image_width // p))\n",
    "        \n",
    "        #Projection + Resample\n",
    "        self.resample = Resample(p, s, image_height, emb_dim, resample_dim)\n",
    "        \n",
    "    def forward(self, x):\n",
    "        x = self.read(x)\n",
    "        x = self.concat(x)\n",
    "        x = self.resample(x)\n",
    "        print(x.shape)\n",
    "        return x"
   ]
  },
  {
   "cell_type": "code",
   "execution_count": 72,
   "metadata": {},
   "outputs": [],
   "source": [
    "class FocusOnDepth(nn.Module):\n",
    "    def __init__(self, \n",
    "                 image_size = (3, 384, 384), \n",
    "                 patch_size = 16, \n",
    "                 emb_dim = 1024,\n",
    "                 resample_dim = 256,\n",
    "                 read = 'projection',\n",
    "                 num_layers_encoder = 24,\n",
    "                 hooks = [5, 11, 17, 23],\n",
    "                 reassemble_s = [4, 8, 16, 32],\n",
    "                 nhead = 16,\n",
    "                 transformer_dropout = 0):\n",
    "        \"\"\"\n",
    "        Focus on Depth - Large\n",
    "        image_size : (c, h, w)\n",
    "        patch_size : *a square*\n",
    "        emb_dim <=> D (in the paper)\n",
    "        resample_dim <=> ^D (in the paper)\n",
    "        read : {\"ignore\", \"add\", \"projection\"}\n",
    "        \"\"\"\n",
    "        super().__init__()\n",
    "        \n",
    "        #Splitting img into patches\n",
    "        channels, image_height, image_width = image_size\n",
    "        assert image_height % patch_size == 0 and image_width % patch_size == 0, 'Image dimensions must be divisible by the patch size.'\n",
    "        num_patches = (image_height // patch_size) * (image_width // patch_size)\n",
    "        patch_dim = channels * patch_size * patch_size\n",
    "        self.to_patch_embedding = nn.Sequential(\n",
    "            Rearrange('b c (h p1) (w p2) -> b (h w) (p1 p2 c)', p1=patch_size, p2=patch_size),\n",
    "            nn.Linear(patch_dim, emb_dim),\n",
    "        )\n",
    "        #Embedding\n",
    "        self.cls_token = nn.Parameter(torch.randn(1, 1, emb_dim))\n",
    "        self.pos_embedding = nn.Parameter(torch.randn(1, num_patches + 1, emb_dim))\n",
    "        \n",
    "        #Transformer\n",
    "        encoder_layer = nn.TransformerEncoderLayer(d_model=emb_dim, nhead=nhead, dropout=transformer_dropout, dim_feedforward=emb_dim*4)\n",
    "        self.transformer_encoders = nn.TransformerEncoder(encoder_layer, num_layers=num_layers_encoder)\n",
    "        #Register hooks\n",
    "        self.activation = {}\n",
    "        self.hooks = hooks\n",
    "        self._get_layers_from_hooks(self.hooks)\n",
    "        \n",
    "        #Reassembles Fusion\n",
    "        self.reassembles = []\n",
    "        self.fusions = []\n",
    "        for s in reassemble_s:\n",
    "            self.reassembles.append(Reassemble(image_size, read, patch_size, s, emb_dim, resample_dim))\n",
    "            self.fusions.append(Fusion(resample_dim))\n",
    "        self.reassembles = nn.ModuleList(self.reassembles)\n",
    "        self.fusions = nn.ModuleList(self.fusions)\n",
    "\n",
    "\n",
    "\n",
    "\n",
    "    \n",
    "    def forward(self, img):\n",
    "        x = self.to_patch_embedding(img)\n",
    "        b, n, _ = x.shape\n",
    "        cls_tokens = repeat(self.cls_token, '() n d -> b n d', b = b)\n",
    "        x = torch.cat((cls_tokens, x), dim=1)\n",
    "        x += self.pos_embedding[:, :(n + 1)]\n",
    "        t = self.transformer_encoders(x)\n",
    "        previous_stage = None\n",
    "        for i in np.arange(len(self.fusions)-1, -1, -1):\n",
    "            hook_to_take = 't'+str(self.hooks[i])\n",
    "            activation_result = self.activation[hook_to_take]\n",
    "            reassemble_result = self.reassembles[i](activation_result)\n",
    "            fusion_result = self.fusions[i](reassemble_result, previous_stage)\n",
    "            previous_stage = fusion_result\n",
    "            print(fusion_result.shape)\n",
    "\n",
    "\n",
    "        #for i,(_,v) in enumerate(self.activation.items()):\n",
    "        #    self.reassembles[i](v)\n",
    "\n",
    "    def _get_layers_from_hooks(self, hooks):\n",
    "        def get_activation(name):\n",
    "            def hook(model, input, output):\n",
    "                self.activation[name] = output.detach()\n",
    "            return hook\n",
    "        for h in hooks:\n",
    "            self.transformer_encoders.layers[h].register_forward_hook(get_activation('t'+str(h)))"
   ]
  },
  {
   "cell_type": "code",
   "execution_count": 73,
   "metadata": {},
   "outputs": [
    {
     "ename": "NameError",
     "evalue": "name 'output' is not defined",
     "output_type": "error",
     "traceback": [
      "\u001b[0;31m---------------------------------------------------------------------------\u001b[0m",
      "\u001b[0;31mNameError\u001b[0m                                 Traceback (most recent call last)",
      "\u001b[0;32m/tmp/ipykernel_6519/1904494174.py\u001b[0m in \u001b[0;36m<module>\u001b[0;34m\u001b[0m\n\u001b[0;32m----> 1\u001b[0;31m \u001b[0mmodel\u001b[0m \u001b[0;34m=\u001b[0m \u001b[0mFocusOnDepth\u001b[0m\u001b[0;34m(\u001b[0m\u001b[0;34m(\u001b[0m\u001b[0;36m3\u001b[0m\u001b[0;34m,\u001b[0m\u001b[0;36m384\u001b[0m\u001b[0;34m,\u001b[0m\u001b[0;36m384\u001b[0m\u001b[0;34m)\u001b[0m\u001b[0;34m,\u001b[0m \u001b[0mpatch_size\u001b[0m\u001b[0;34m=\u001b[0m\u001b[0;36m16\u001b[0m\u001b[0;34m,\u001b[0m \u001b[0memb_dim\u001b[0m\u001b[0;34m=\u001b[0m\u001b[0;36m128\u001b[0m\u001b[0;34m,\u001b[0m \u001b[0mread\u001b[0m\u001b[0;34m=\u001b[0m\u001b[0;34m\"projection\"\u001b[0m\u001b[0;34m)\u001b[0m\u001b[0;34m\u001b[0m\u001b[0;34m\u001b[0m\u001b[0m\n\u001b[0m\u001b[1;32m      2\u001b[0m \u001b[0mmodel\u001b[0m\u001b[0;34m(\u001b[0m\u001b[0mimg\u001b[0m\u001b[0;34m)\u001b[0m\u001b[0;34m\u001b[0m\u001b[0;34m\u001b[0m\u001b[0m\n\u001b[1;32m      3\u001b[0m \u001b[0;31m#model\u001b[0m\u001b[0;34m\u001b[0m\u001b[0;34m\u001b[0m\u001b[0;34m\u001b[0m\u001b[0m\n",
      "\u001b[0;32m/tmp/ipykernel_6519/3709615186.py\u001b[0m in \u001b[0;36m__init__\u001b[0;34m(self, image_size, patch_size, emb_dim, resample_dim, read, num_layers_encoder, hooks, reassemble_s, nhead, transformer_dropout)\u001b[0m\n\u001b[1;32m     47\u001b[0m         \u001b[0;32mfor\u001b[0m \u001b[0ms\u001b[0m \u001b[0;32min\u001b[0m \u001b[0mreassemble_s\u001b[0m\u001b[0;34m:\u001b[0m\u001b[0;34m\u001b[0m\u001b[0;34m\u001b[0m\u001b[0m\n\u001b[1;32m     48\u001b[0m             \u001b[0mself\u001b[0m\u001b[0;34m.\u001b[0m\u001b[0mreassembles\u001b[0m\u001b[0;34m.\u001b[0m\u001b[0mappend\u001b[0m\u001b[0;34m(\u001b[0m\u001b[0mReassemble\u001b[0m\u001b[0;34m(\u001b[0m\u001b[0mimage_size\u001b[0m\u001b[0;34m,\u001b[0m \u001b[0mread\u001b[0m\u001b[0;34m,\u001b[0m \u001b[0mpatch_size\u001b[0m\u001b[0;34m,\u001b[0m \u001b[0ms\u001b[0m\u001b[0;34m,\u001b[0m \u001b[0memb_dim\u001b[0m\u001b[0;34m,\u001b[0m \u001b[0mresample_dim\u001b[0m\u001b[0;34m)\u001b[0m\u001b[0;34m)\u001b[0m\u001b[0;34m\u001b[0m\u001b[0;34m\u001b[0m\u001b[0m\n\u001b[0;32m---> 49\u001b[0;31m             \u001b[0mself\u001b[0m\u001b[0;34m.\u001b[0m\u001b[0mfusions\u001b[0m\u001b[0;34m.\u001b[0m\u001b[0mappend\u001b[0m\u001b[0;34m(\u001b[0m\u001b[0mFusion\u001b[0m\u001b[0;34m(\u001b[0m\u001b[0mresample_dim\u001b[0m\u001b[0;34m)\u001b[0m\u001b[0;34m)\u001b[0m\u001b[0;34m\u001b[0m\u001b[0;34m\u001b[0m\u001b[0m\n\u001b[0m\u001b[1;32m     50\u001b[0m         \u001b[0mself\u001b[0m\u001b[0;34m.\u001b[0m\u001b[0mreassembles\u001b[0m \u001b[0;34m=\u001b[0m \u001b[0mnn\u001b[0m\u001b[0;34m.\u001b[0m\u001b[0mModuleList\u001b[0m\u001b[0;34m(\u001b[0m\u001b[0mself\u001b[0m\u001b[0;34m.\u001b[0m\u001b[0mreassembles\u001b[0m\u001b[0;34m)\u001b[0m\u001b[0;34m\u001b[0m\u001b[0;34m\u001b[0m\u001b[0m\n\u001b[1;32m     51\u001b[0m         \u001b[0mself\u001b[0m\u001b[0;34m.\u001b[0m\u001b[0mfusions\u001b[0m \u001b[0;34m=\u001b[0m \u001b[0mnn\u001b[0m\u001b[0;34m.\u001b[0m\u001b[0mModuleList\u001b[0m\u001b[0;34m(\u001b[0m\u001b[0mself\u001b[0m\u001b[0;34m.\u001b[0m\u001b[0mfusions\u001b[0m\u001b[0;34m)\u001b[0m\u001b[0;34m\u001b[0m\u001b[0;34m\u001b[0m\u001b[0m\n",
      "\u001b[0;32m/tmp/ipykernel_6519/1674824761.py\u001b[0m in \u001b[0;36m__init__\u001b[0;34m(self, resample_dim)\u001b[0m\n\u001b[1;32m     80\u001b[0m         \u001b[0;31m#self.resample = nn.ConvTranspose2d(resample_dim, resample_dim, kernel_size=2, stride=2, padding=0, bias=True, dilation=1, groups=1)\u001b[0m\u001b[0;34m\u001b[0m\u001b[0;34m\u001b[0m\u001b[0;34m\u001b[0m\u001b[0m\n\u001b[1;32m     81\u001b[0m         self.resample = nn.functional.interpolate(\n\u001b[0;32m---> 82\u001b[0;31m             \u001b[0moutput\u001b[0m\u001b[0;34m,\u001b[0m \u001b[0mscale_factor\u001b[0m\u001b[0;34m=\u001b[0m\u001b[0;36m2\u001b[0m\u001b[0;34m,\u001b[0m \u001b[0mmode\u001b[0m\u001b[0;34m=\u001b[0m\u001b[0;34m\"bilinear\"\u001b[0m\u001b[0;34m,\u001b[0m \u001b[0malign_corners\u001b[0m\u001b[0;34m=\u001b[0m\u001b[0;32mTrue\u001b[0m\u001b[0;34m\u001b[0m\u001b[0;34m\u001b[0m\u001b[0m\n\u001b[0m\u001b[1;32m     83\u001b[0m         )\n\u001b[1;32m     84\u001b[0m \u001b[0;34m\u001b[0m\u001b[0m\n",
      "\u001b[0;31mNameError\u001b[0m: name 'output' is not defined"
     ]
    }
   ],
   "source": [
    "model = FocusOnDepth((3,384,384), patch_size=16, emb_dim=128, read=\"projection\")\n",
    "model(img)\n",
    "#model"
   ]
  },
  {
   "cell_type": "code",
   "execution_count": 184,
   "metadata": {},
   "outputs": [
    {
     "data": {
      "text/plain": [
       "dict_keys(['t5', 't11', 't17', 't23'])"
      ]
     },
     "execution_count": 184,
     "metadata": {},
     "output_type": "execute_result"
    }
   ],
   "source": [
    "model.activation.keys()"
   ]
  },
  {
   "cell_type": "code",
   "execution_count": null,
   "metadata": {},
   "outputs": [],
   "source": []
  },
  {
   "cell_type": "code",
   "execution_count": null,
   "metadata": {},
   "outputs": [],
   "source": []
  },
  {
   "cell_type": "code",
   "execution_count": null,
   "metadata": {},
   "outputs": [],
   "source": []
  },
  {
   "cell_type": "code",
   "execution_count": null,
   "metadata": {},
   "outputs": [],
   "source": []
  },
  {
   "cell_type": "code",
   "execution_count": 59,
   "metadata": {},
   "outputs": [
    {
     "name": "stdout",
     "output_type": "stream",
     "text": [
      "torch.Size([1, 16384, 27])\n"
     ]
    },
    {
     "data": {
      "image/png": "[encoded data removed]",
      "text/plain": [
       "<Figure size 432x288 with 2 Axes>"
      ]
     },
     "metadata": {
      "needs_background": "light"
     },
     "output_type": "display_data"
    },
    {
     "name": "stdout",
     "output_type": "stream",
     "text": [
      "torch.Size([1, 27, 128, 128])\n"
     ]
    },
    {
     "data": {
      "text/plain": [
       "tensor([[[1., 1., 1.,  ..., 1., 1., 1.],\n",
       "         [1., 1., 1.,  ..., 1., 1., 1.],\n",
       "         [1., 1., 1.,  ..., 1., 1., 1.],\n",
       "         ...,\n",
       "         [1., 1., 1.,  ..., 1., 1., 1.],\n",
       "         [1., 1., 1.,  ..., 1., 1., 1.],\n",
       "         [1., 1., 1.,  ..., 1., 1., 1.]],\n",
       "\n",
       "        [[1., 1., 1.,  ..., 1., 1., 1.],\n",
       "         [1., 1., 1.,  ..., 1., 1., 1.],\n",
       "         [1., 1., 1.,  ..., 1., 1., 1.],\n",
       "         ...,\n",
       "         [1., 1., 1.,  ..., 1., 1., 1.],\n",
       "         [1., 1., 1.,  ..., 1., 1., 1.],\n",
       "         [1., 1., 1.,  ..., 1., 1., 1.]],\n",
       "\n",
       "        [[1., 1., 1.,  ..., 1., 1., 1.],\n",
       "         [1., 1., 1.,  ..., 1., 1., 1.],\n",
       "         [1., 1., 1.,  ..., 1., 1., 1.],\n",
       "         ...,\n",
       "         [1., 1., 1.,  ..., 1., 1., 1.],\n",
       "         [1., 1., 1.,  ..., 1., 1., 1.],\n",
       "         [1., 1., 1.,  ..., 1., 1., 1.]],\n",
       "\n",
       "        [[2., 2., 2.,  ..., 2., 2., 2.],\n",
       "         [2., 2., 2.,  ..., 2., 2., 2.],\n",
       "         [2., 2., 2.,  ..., 2., 2., 2.],\n",
       "         ...,\n",
       "         [2., 2., 2.,  ..., 2., 2., 2.],\n",
       "         [2., 2., 2.,  ..., 2., 2., 2.],\n",
       "         [2., 2., 2.,  ..., 2., 2., 2.]]])"
      ]
     },
     "execution_count": 59,
     "metadata": {},
     "output_type": "execute_result"
    }
   ],
   "source": [
    "#Validation des rearrange\n",
    "tmp = np.array([[1,2,3],[4,5,6],[7,8,9]])\n",
    "tmp = np.concatenate([np.concatenate([tmp] * 128, axis=1)]*128)\n",
    "tmp = np.stack([tmp,tmp,tmp], axis=0)\n",
    "tmp = np.array([tmp])\n",
    "tmp = torch.Tensor(tmp)\n",
    "tmp.shape\n",
    "\n",
    "topatch = Rearrange('b c (h p1) (w p2) -> b (h w) (p1 p2 c)', p1=3, p2=3)\n",
    "tmp2 = topatch(tmp)\n",
    "tmp2 = torch.Tensor(tmp2)\n",
    "print(tmp2.shape)\n",
    "plt.imshow(tmp2[0], aspect='auto')\n",
    "plt.colorbar()\n",
    "plt.show()\n",
    "\n",
    "concat = Rearrange('b (h w) c -> b c h w', c=27, h=(384 // 3), w=(384 // 3))\n",
    "tmp3 = concat(tmp2)\n",
    "tmp3 = torch.Tensor(tmp3)\n",
    "print(tmp3.shape)\n",
    "tmp3[0,:4]"
   ]
  },
  {
   "cell_type": "code",
   "execution_count": 126,
   "metadata": {},
   "outputs": [],
   "source": [
    "resample2 = Resample(16, 2, 768, 768)\n",
    "tmp4 = resample2(tmp3)"
   ]
  },
  {
   "cell_type": "code",
   "execution_count": 128,
   "metadata": {},
   "outputs": [
    {
     "name": "stdout",
     "output_type": "stream",
     "text": [
      "torch.Size([1, 768, 24, 24])\n",
      "torch.Size([1, 768, 72, 72])\n"
     ]
    }
   ],
   "source": [
    "print(tmp3.shape)\n",
    "print(tmp4.shape)"
   ]
  },
  {
   "cell_type": "code",
   "execution_count": 181,
   "metadata": {},
   "outputs": [],
   "source": [
    "conv2 = nn.ConvTranspose2d(768, 768, \n",
    "                        kernel_size=3, \n",
    "                        stride=3,\n",
    "                        padding=0,\n",
    "                        bias=True,\n",
    "                        dilation=1,\n",
    "                        groups=1)"
   ]
  },
  {
   "cell_type": "code",
   "execution_count": 182,
   "metadata": {},
   "outputs": [
    {
     "data": {
      "text/plain": [
       "torch.Size([1, 768, 49, 49])"
      ]
     },
     "execution_count": 182,
     "metadata": {},
     "output_type": "execute_result"
    }
   ],
   "source": [
    "tmp5 = conv2(tmp3)\n",
    "tmp5.shape"
   ]
  },
  {
   "cell_type": "code",
   "execution_count": null,
   "metadata": {},
   "outputs": [],
   "source": []
  }
 ],
 "metadata": {
  "kernelspec": {
   "display_name": "Python 3",
   "language": "python",
   "name": "python3"
  },
  "language_info": {
   "codemirror_mode": {
    "name": "ipython",
    "version": 3
   },
   "file_extension": ".py",
   "mimetype": "text/x-python",
   "name": "python",
   "nbconvert_exporter": "python",
   "pygments_lexer": "ipython3",
   "version": "3.8.1"
  }
 },
 "nbformat": 4,
 "nbformat_minor": 4
}
