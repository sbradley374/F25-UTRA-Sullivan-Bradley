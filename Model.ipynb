{
 "cells": [
  {
   "cell_type": "code",
   "execution_count": 1,
   "metadata": {},
   "outputs": [],
   "source": [
    "import matplotlib.pyplot as plt\n",
    "import numpy as np\n",
    "import torch\n",
    "import torch.nn as nn\n",
    "import torch.optim as optim\n",
    "import torchvision\n",
    "import torchvision.transforms as transforms\n",
    "\n",
    "# # select device\n",
    "# device = 'cpu'#torch.device(\"cuda\" if torch.cuda.is_available() else \"cpu\")\n",
    "# print(\"device: %s\" % device)"
   ]
  },
  {
   "cell_type": "code",
   "execution_count": 15,
   "metadata": {},
   "outputs": [
    {
     "name": "stdout",
     "output_type": "stream",
     "text": [
      "device: cpu\n",
      "epoch 1 : loss =  0.2676319032907486\n",
      "epoch 2 : loss =  0.2364957183599472\n",
      "epoch 3 : loss =  0.21266299486160278\n",
      "epoch 4 : loss =  0.2023397758603096\n",
      "epoch 5 : loss =  0.20164500176906586\n",
      "Finished Training\n"
     ]
    },
    {
     "name": "stderr",
     "output_type": "stream",
     "text": [
      "\n",
      "0it [00:00, ?it/s]\n",
      "1it [00:03,  3.92s/it]\n",
      "2it [00:06,  3.64s/it]\n",
      "2it [00:06,  3.46s/it]\n",
      "\n",
      "0it [00:00, ?it/s]\n",
      "1it [00:03,  3.87s/it]\n",
      "2it [00:06,  3.59s/it]\n",
      "2it [00:06,  3.41s/it]\n",
      "\n",
      "0it [00:00, ?it/s]\n",
      "1it [00:03,  3.90s/it]\n",
      "2it [00:06,  3.63s/it]\n",
      "2it [00:06,  3.45s/it]\n",
      "\n",
      "0it [00:00, ?it/s]\n",
      "1it [00:03,  3.92s/it]\n",
      "2it [00:06,  3.64s/it]\n",
      "2it [00:06,  3.45s/it]\n",
      "\n",
      "0it [00:00, ?it/s]\n",
      "1it [00:04,  4.66s/it]\n",
      "2it [00:08,  4.48s/it]\n",
      "2it [00:08,  4.35s/it]\n"
     ]
    },
    {
     "name": "stdout",
     "output_type": "stream",
     "text": [
      "device: cpu\n",
      "epoch 1 : loss =  0.5203628614544868\n",
      "epoch 2 : loss =  0.7942679226398468\n",
      "epoch 3 : loss =  0.7929099649190903\n",
      "epoch 4 : loss =  0.7928613126277924\n",
      "epoch 5 : loss =  0.7501863390207291\n",
      "Finished Training\n"
     ]
    },
    {
     "name": "stderr",
     "output_type": "stream",
     "text": [
      "\n",
      "0it [00:00, ?it/s]\n",
      "1it [00:03,  3.06s/it]\n",
      "2it [00:06,  3.05s/it]\n",
      "3it [00:08,  2.88s/it]\n",
      "4it [00:09,  2.36s/it]\n",
      "4it [00:09,  2.43s/it]\n",
      "\n",
      "0it [00:00, ?it/s]\n",
      "1it [00:02,  2.06s/it]\n",
      "2it [00:04,  2.06s/it]\n",
      "3it [00:06,  2.07s/it]\n",
      "4it [00:07,  1.79s/it]\n",
      "4it [00:07,  1.83s/it]\n",
      "\n",
      "0it [00:00, ?it/s]\n",
      "1it [00:02,  2.07s/it]\n",
      "2it [00:04,  2.06s/it]\n",
      "3it [00:06,  2.06s/it]\n",
      "4it [00:07,  1.77s/it]\n",
      "4it [00:07,  1.81s/it]\n",
      "\n",
      "0it [00:00, ?it/s]\n",
      "1it [00:02,  2.04s/it]\n",
      "2it [00:04,  2.05s/it]\n",
      "3it [00:06,  2.06s/it]\n",
      "4it [00:07,  1.79s/it]\n",
      "4it [00:07,  1.84s/it]\n",
      "\n",
      "0it [00:00, ?it/s]\n",
      "1it [00:02,  2.10s/it]\n",
      "2it [00:04,  2.09s/it]\n",
      "3it [00:06,  2.08s/it]\n",
      "4it [00:07,  1.80s/it]\n",
      "4it [00:07,  1.84s/it]\n"
     ]
    }
   ],
   "source": [
    "!python train.py"
   ]
  },
  {
   "cell_type": "code",
   "execution_count": null,
   "metadata": {},
   "outputs": [],
   "source": []
  },
  {
   "cell_type": "code",
   "execution_count": null,
   "metadata": {},
   "outputs": [],
   "source": []
  },
  {
   "cell_type": "code",
   "execution_count": null,
   "metadata": {},
   "outputs": [],
   "source": []
  },
  {
   "cell_type": "code",
   "execution_count": null,
   "metadata": {},
   "outputs": [],
   "source": []
  },
  {
   "cell_type": "code",
   "execution_count": null,
   "metadata": {},
   "outputs": [],
   "source": []
  },
  {
   "cell_type": "code",
   "execution_count": null,
   "metadata": {},
   "outputs": [],
   "source": []
  },
  {
   "cell_type": "code",
   "execution_count": null,
   "metadata": {},
   "outputs": [],
   "source": []
  },
  {
   "cell_type": "code",
   "execution_count": null,
   "metadata": {},
   "outputs": [],
   "source": []
  },
  {
   "cell_type": "code",
   "execution_count": 3,
   "metadata": {},
   "outputs": [],
   "source": [
    "# model = FocusOnDepth((3,384,384), patch_size=16, emb_dim=512, resample_dim=256, read=\"projection\", nhead=8)\n",
    "# model.to(device)\n",
    "# total_params = sum(p.numel() for p in model.parameters())\n",
    "# total_trainable_params = sum(p.numel() for p in model.parameters() if p.requires_grad)\n",
    "# print(total_params, total_trainable_params)"
   ]
  },
  {
   "cell_type": "code",
   "execution_count": 4,
   "metadata": {},
   "outputs": [],
   "source": [
    "# model.eval()\n",
    "# img = torch.Tensor(np.random.random((5,3,384,384))).to(device)\n",
    "# out = model(img)\n",
    "# plt.imshow(out[0].permute(1,2,0).squeeze(-1).detach())\n",
    "# plt.show()"
   ]
  },
  {
   "cell_type": "code",
   "execution_count": 5,
   "metadata": {},
   "outputs": [],
   "source": [
    "# train_dataset = torchvision.datasets.ImageFolder(root=\"./datasets/inria/frames/1/\",\n",
    "#                                      transform=None)\n",
    "\n",
    "# train_dataloader = torch.utils.data.DataLoader(train_dataset,\n",
    "#                                           batch_size=4,\n",
    "#                                           shuffle=True, \n",
    "#                                           num_workers=2)"
   ]
  },
  {
   "cell_type": "code",
   "execution_count": null,
   "metadata": {},
   "outputs": [],
   "source": []
  },
  {
   "cell_type": "code",
   "execution_count": 6,
   "metadata": {},
   "outputs": [],
   "source": [
    "# #Validation des rearrange\n",
    "# tmp = np.array([[1,2,3],[4,5,6],[7,8,9]])\n",
    "# tmp = np.concatenate([np.concatenate([tmp] * 128, axis=1)]*128)\n",
    "# tmp = np.stack([tmp,tmp,tmp], axis=0)\n",
    "# tmp = np.array([tmp])\n",
    "# tmp = torch.Tensor(tmp)\n",
    "# tmp.shape\n",
    "\n",
    "# topatch = Rearrange('b c (h p1) (w p2) -> b (h w) (p1 p2 c)', p1=3, p2=3)\n",
    "# tmp2 = topatch(tmp)\n",
    "# tmp2 = torch.Tensor(tmp2)\n",
    "# print(tmp2.shape)\n",
    "# plt.imshow(tmp2[0], aspect='auto')\n",
    "# plt.colorbar()\n",
    "# plt.show()\n",
    "\n",
    "# concat = Rearrange('b (h w) c -> b c h w', c=27, h=(384 // 3), w=(384 // 3))\n",
    "# tmp3 = concat(tmp2)\n",
    "# tmp3 = torch.Tensor(tmp3)\n",
    "# print(tmp3.shape)\n",
    "# tmp3[0,:4]"
   ]
  },
  {
   "cell_type": "code",
   "execution_count": null,
   "metadata": {},
   "outputs": [],
   "source": []
  }
 ],
 "metadata": {
  "kernelspec": {
   "display_name": "Python 3",
   "language": "python",
   "name": "python3"
  },
  "language_info": {
   "codemirror_mode": {
    "name": "ipython",
    "version": 3
   },
   "file_extension": ".py",
   "mimetype": "text/x-python",
   "name": "python",
   "nbconvert_exporter": "python",
   "pygments_lexer": "ipython3",
   "version": "3.8.1"
  }
 },
 "nbformat": 4,
 "nbformat_minor": 4
}
