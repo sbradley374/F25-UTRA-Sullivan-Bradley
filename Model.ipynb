{
 "cells": [
  {
   "cell_type": "code",
   "execution_count": 1,
   "metadata": {},
   "outputs": [],
   "source": [
    "import matplotlib.pyplot as plt\n",
    "import numpy as np\n",
    "import torch\n",
    "import torch.nn as nn\n",
    "import torch.optim as optim\n",
    "import torchvision\n",
    "import torchvision.transforms as transforms\n",
    "\n",
    "# # select device\n",
    "# device = 'cpu'#torch.device(\"cuda\" if torch.cuda.is_available() else \"cpu\")\n",
    "# print(\"device: %s\" % device)"
   ]
  },
  {
   "cell_type": "code",
   "execution_count": null,
   "metadata": {},
   "outputs": [],
   "source": [
    "!python train.py"
   ]
  },
  {
   "cell_type": "code",
   "execution_count": null,
   "metadata": {},
   "outputs": [],
   "source": []
  },
  {
   "cell_type": "code",
   "execution_count": null,
   "metadata": {},
   "outputs": [],
   "source": []
  },
  {
   "cell_type": "code",
   "execution_count": null,
   "metadata": {},
   "outputs": [],
   "source": []
  },
  {
   "cell_type": "code",
   "execution_count": null,
   "metadata": {},
   "outputs": [],
   "source": []
  },
  {
   "cell_type": "code",
   "execution_count": null,
   "metadata": {},
   "outputs": [],
   "source": []
  },
  {
   "cell_type": "code",
   "execution_count": null,
   "metadata": {},
   "outputs": [],
   "source": []
  },
  {
   "cell_type": "code",
   "execution_count": null,
   "metadata": {},
   "outputs": [],
   "source": []
  },
  {
   "cell_type": "code",
   "execution_count": null,
   "metadata": {},
   "outputs": [],
   "source": []
  },
  {
   "cell_type": "code",
   "execution_count": 3,
   "metadata": {},
   "outputs": [],
   "source": [
    "# model = FocusOnDepth((3,384,384), patch_size=16, emb_dim=512, resample_dim=256, read=\"projection\", nhead=8)\n",
    "# model.to(device)\n",
    "# total_params = sum(p.numel() for p in model.parameters())\n",
    "# total_trainable_params = sum(p.numel() for p in model.parameters() if p.requires_grad)\n",
    "# print(total_params, total_trainable_params)"
   ]
  },
  {
   "cell_type": "code",
   "execution_count": 4,
   "metadata": {},
   "outputs": [],
   "source": [
    "# model.eval()\n",
    "# img = torch.Tensor(np.random.random((5,3,384,384))).to(device)\n",
    "# out = model(img)\n",
    "# plt.imshow(out[0].permute(1,2,0).squeeze(-1).detach())\n",
    "# plt.show()"
   ]
  },
  {
   "cell_type": "code",
   "execution_count": 5,
   "metadata": {},
   "outputs": [],
   "source": [
    "# train_dataset = torchvision.datasets.ImageFolder(root=\"./datasets/inria/frames/1/\",\n",
    "#                                      transform=None)\n",
    "\n",
    "# train_dataloader = torch.utils.data.DataLoader(train_dataset,\n",
    "#                                           batch_size=4,\n",
    "#                                           shuffle=True, \n",
    "#                                           num_workers=2)"
   ]
  },
  {
   "cell_type": "code",
   "execution_count": null,
   "metadata": {},
   "outputs": [],
   "source": []
  },
  {
   "cell_type": "code",
   "execution_count": 6,
   "metadata": {},
   "outputs": [],
   "source": [
    "# #Validation des rearrange\n",
    "# tmp = np.array([[1,2,3],[4,5,6],[7,8,9]])\n",
    "# tmp = np.concatenate([np.concatenate([tmp] * 128, axis=1)]*128)\n",
    "# tmp = np.stack([tmp,tmp,tmp], axis=0)\n",
    "# tmp = np.array([tmp])\n",
    "# tmp = torch.Tensor(tmp)\n",
    "# tmp.shape\n",
    "\n",
    "# topatch = Rearrange('b c (h p1) (w p2) -> b (h w) (p1 p2 c)', p1=3, p2=3)\n",
    "# tmp2 = topatch(tmp)\n",
    "# tmp2 = torch.Tensor(tmp2)\n",
    "# print(tmp2.shape)\n",
    "# plt.imshow(tmp2[0], aspect='auto')\n",
    "# plt.colorbar()\n",
    "# plt.show()\n",
    "\n",
    "# concat = Rearrange('b (h w) c -> b c h w', c=27, h=(384 // 3), w=(384 // 3))\n",
    "# tmp3 = concat(tmp2)\n",
    "# tmp3 = torch.Tensor(tmp3)\n",
    "# print(tmp3.shape)\n",
    "# tmp3[0,:4]"
   ]
  },
  {
   "cell_type": "code",
   "execution_count": null,
   "metadata": {},
   "outputs": [],
   "source": []
  }
 ],
 "metadata": {
  "kernelspec": {
   "display_name": "Python 3",
   "language": "python",
   "name": "python3"
  },
  "language_info": {
   "codemirror_mode": {
    "name": "ipython",
    "version": 3
   },
   "file_extension": ".py",
   "mimetype": "text/x-python",
   "name": "python",
   "nbconvert_exporter": "python",
   "pygments_lexer": "ipython3",
   "version": "3.8.1"
  }
 },
 "nbformat": 4,
 "nbformat_minor": 4
}
